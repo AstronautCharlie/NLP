{
  "nbformat": 4,
  "nbformat_minor": 0,
  "metadata": {
    "colab": {
      "name": "Copy of PS1-Reviews.ipynb",
      "provenance": [],
      "collapsed_sections": [],
      "machine_shape": "hm",
      "include_colab_link": true
    },
    "kernelspec": {
      "name": "python3",
      "display_name": "Python 3"
    }
  },
  "cells": [
    {
      "cell_type": "markdown",
      "metadata": {
        "id": "view-in-github",
        "colab_type": "text"
      },
      "source": [
        "<a href=\"https://colab.research.google.com/github/AstronautCharlie/NLP/blob/master/Copy_of_PS1_Reviews.ipynb\" target=\"_parent\"><img src=\"https://colab.research.google.com/assets/colab-badge.svg\" alt=\"Open In Colab\"/></a>"
      ]
    },
    {
      "cell_type": "markdown",
      "metadata": {
        "id": "Jc2R3x6QSIFi",
        "colab_type": "text"
      },
      "source": [
        "In this experiment, you will explore the accuracy of sentiment classificaiton using different feature representations of text documents.\n",
        "\n",
        "First, you will implement `createBasicFeatures`, which creates a sparse matrix representation of a collection of documents. For this exercise, you should have a feature for each word containing at least one alphabetic character. You may use the `numpy` and `sklearn` packages to help with implementing a sparse matrix.\n",
        "\n",
        "Then, you will implement `createFancyFeatures`, which can specify at any other features you choose to help improve performance on the classification task.\n",
        "\n",
        "The two code blocks at the end train and evaluate two models—logistic regression with L1 and L2 regularization—using your featurization functions. Besides held-out classification accuracy with 10-fold cross-validation, you will also see the features in each class given high weights by the model."
      ]
    },
    {
      "cell_type": "code",
      "metadata": {
        "id": "AdVS67_HNRmW",
        "colab_type": "code",
        "colab": {
          "base_uri": "https://localhost:8080/",
          "height": 86
        },
        "outputId": "cd41fc41-4735-47e4-c325-37912b1dfd78"
      },
      "source": [
        "import json\n",
        "import requests\n",
        "from sklearn.linear_model import LogisticRegression\n",
        "from sklearn.model_selection import cross_validate,LeaveOneOut,KFold\n",
        "from sklearn.feature_extraction.text import CountVectorizer\n",
        "from sklearn.feature_extraction.text import TfidfVectorizer\n",
        "import scipy\n",
        "from nltk import word_tokenize \n",
        "import nltk \n",
        "nltk.download('punkt')\n",
        "nltk.download('wordnet')\n",
        "from nltk.stem import WordNetLemmatizer \n",
        "import numpy as np\n",
        "\n",
        "class LemmaTokenizer(object): \n",
        "  def __init__(self):\n",
        "    self.wnl = WordNetLemmatizer()\n",
        "  def __call__(self, data):\n",
        "    return [self.wnl.lemmatize(t) for t in word_tokenize(data)]"
      ],
      "execution_count": 63,
      "outputs": [
        {
          "output_type": "stream",
          "text": [
            "[nltk_data] Downloading package punkt to /root/nltk_data...\n",
            "[nltk_data]   Unzipping tokenizers/punkt.zip.\n",
            "[nltk_data] Downloading package wordnet to /root/nltk_data...\n",
            "[nltk_data]   Unzipping corpora/wordnet.zip.\n"
          ],
          "name": "stdout"
        }
      ]
    },
    {
      "cell_type": "code",
      "metadata": {
        "id": "PzjMY8fYQbB6",
        "colab_type": "code",
        "cellView": "both",
        "colab": {}
      },
      "source": [
        "# read in the movie review corpus\n",
        "def readReviews():\n",
        "  raw = requests.get(\"https://raw.githubusercontent.com/mutherr/CS6120-PS1-data/master/cornell_reviews.json\").text.strip()\n",
        "  corpus = [json.loads(line) for line in raw.split(\"\\n\")]\n",
        "\n",
        "  return corpus"
      ],
      "execution_count": 0,
      "outputs": []
    },
    {
      "cell_type": "markdown",
      "metadata": {
        "id": "Qvd3I95FT01D",
        "colab_type": "text"
      },
      "source": [
        "This is where you will implement two functions to featurize the data."
      ]
    },
    {
      "cell_type": "code",
      "metadata": {
        "id": "039fPQcF7OkN",
        "colab_type": "code",
        "colab": {}
      },
      "source": [
        "#NB: The current contents are for testing only\n",
        "#This function should return: \n",
        "#  -a sparse numpy matrix of document features\n",
        "#  -a list of the correct class for each document\n",
        "#  -a list of the vocabulary used by the features, such that the ith term of the\n",
        "#    list is the word whose counts appear in the ith column of the matrix. \n",
        "\n",
        "# This function should create a feature representation using all tokens that\n",
        "# contain an alphabetic character.\n",
        "def createBasicFeatures(corpus):\n",
        "\n",
        "  # Get a list of the reviews as strings \n",
        "  reviews = [corpus[i]['text'] for i in range(len(corpus))]\n",
        "  \n",
        "  # Get matrix of word counts \n",
        "  vectorizer = CountVectorizer(token_pattern = '[a-zA-Z]+', analyzer='word')\n",
        "  texts = vectorizer.fit_transform(reviews).toarray()\n",
        "\n",
        "  # Get the classes of each review\n",
        "  classes = [corpus[i]['class'] for i in range(len(corpus))]\n",
        "\n",
        "  # Get the features used to train the model, which in this case is just \n",
        "  # the list of words in the model \n",
        "  vocab = vectorizer.get_feature_names()\n",
        "\n",
        "  return texts,classes,vocab\n",
        "\n",
        "# This function can add other features you want that help classification\n",
        "# accuracy, such as bigrams, word prefixes and suffixes, etc.\n",
        "def createFancyFeatures(corpus):\n",
        "\n",
        "  # Parse corpus to get reviews \n",
        "  reviews = [corpus[i]['text'] for i in range(len(corpus))]\n",
        "  \n",
        "  # Get correct class of each review \n",
        "  classes = [corpus[i]['class'] for i in range(len(corpus))] \n",
        "\n",
        "  # Create matrix for basic features \n",
        "  basic_vectorizer = CountVectorizer(analyzer='word',\n",
        "                                     token_pattern='[a-zA-Z]+',\n",
        "                                     ngram_range=(1,2),\n",
        "                                     max_df=0.8,\n",
        "                                     )\n",
        "  texts_basic = basic_vectorizer.fit_transform(reviews)\n",
        "  vocab_basic = basic_vectorizer.get_feature_names()\n",
        "\n",
        "  # Create TFIDF matrix\n",
        "  tfidf_vectorizer = TfidfVectorizer(analyzer='word',\n",
        "                                     token_pattern='[a-zA-Z]+',\n",
        "                                     ngram_range=(1,2),\n",
        "                                     max_df=0.8,\n",
        "                                     )\n",
        "  text_tfidf = tfidf_vectorizer.fit_transform(reviews)\n",
        "  vocab_tfidf = tfidf_vectorizer.get_feature_names()\n",
        "\n",
        "  # Combine feature matrices \n",
        "  texts = scipy.sparse.hstack((texts_basic, text_tfidf))\n",
        "  #texts = texts_basic\n",
        "\n",
        "  # Combine vocabs \n",
        "  vocab = vocab_basic + vocab_tfidf\n",
        "  #vocab = vocab_basic\n",
        "\n",
        "  return texts,classes,vocab"
      ],
      "execution_count": 0,
      "outputs": []
    },
    {
      "cell_type": "code",
      "metadata": {
        "id": "KfTBqBltXe7Y",
        "colab_type": "code",
        "colab": {}
      },
      "source": [
        "#given a numpy matrix representation of the features for the training set, the \n",
        "# vector of true classes for each example, and the vocabulary as described \n",
        "# above, this computes the accuracy of the model using leave one out cross \n",
        "# validation and reports the most indicative features for each class\n",
        "\n",
        "def evaluateModel(X,y,vocab,penalty=\"l1\"):\n",
        "  #create and fit the model\n",
        "  model = LogisticRegression(penalty=penalty,solver=\"liblinear\")\n",
        "  results = cross_validate(model,X,y,cv=KFold(n_splits=10, shuffle=True, random_state=1))\n",
        "  \n",
        "  #determine the average accuracy\n",
        "  scores = results[\"test_score\"]\n",
        "  avg_score = sum(scores)/len(scores)\n",
        "  \n",
        "  #determine the most informative features\n",
        "  # this requires us to fit the model to everything, because we need a\n",
        "  # single model to draw coefficients from, rather than 26\n",
        "  model.fit(X,y)\n",
        "  class0_weight_sorted = model.coef_[0, :].argsort()\n",
        "  class1_weight_sorted = (-model.coef_[0, :]).argsort()\n",
        "\n",
        "  termsToTake = 20\n",
        "  class0_indicators = [vocab[i] for i in class0_weight_sorted[:termsToTake]]\n",
        "  class1_indicators = [vocab[i] for i in class1_weight_sorted[:termsToTake]]\n",
        "\n",
        "  if model.classes_[0] == \"pos\":\n",
        "    return avg_score,class0_indicators,class1_indicators\n",
        "  else:\n",
        "    return avg_score,class1_indicators,class0_indicators\n",
        "\n",
        "def runEvaluation(X,y,vocab):\n",
        "  print(\"----------L1 Norm-----------\")\n",
        "  avg_score,pos_indicators,neg_indicators = evaluateModel(X,y,vocab,\"l1\")\n",
        "  print(\"The model's average accuracy is %f\"%avg_score)\n",
        "  print(\"The most informative terms for pos are: %s\"%pos_indicators)\n",
        "  print(\"The most informative terms for neg are: %s\"%neg_indicators)\n",
        "  #this call will fit a model with L2 normalization\n",
        "  print(\"----------L2 Norm-----------\")\n",
        "  avg_score,pos_indicators,neg_indicators = evaluateModel(X,y,vocab,\"l2\")\n",
        "  print(\"The model's average accuracy is %f\"%avg_score)\n",
        "  print(\"The most informative terms for pos are: %s\"%pos_indicators)\n",
        "  print(\"The most informative terms for neg are: %s\"%neg_indicators)"
      ],
      "execution_count": 0,
      "outputs": []
    },
    {
      "cell_type": "code",
      "metadata": {
        "id": "VWWq5VgmECKV",
        "colab_type": "code",
        "colab": {}
      },
      "source": [
        "corpus = readReviews()"
      ],
      "execution_count": 0,
      "outputs": []
    },
    {
      "cell_type": "markdown",
      "metadata": {
        "id": "72OUet02TjBo",
        "colab_type": "text"
      },
      "source": [
        "Run the following to train and evaluate two models using basic features:"
      ]
    },
    {
      "cell_type": "code",
      "metadata": {
        "id": "4IpJ7PKjvc8I",
        "colab_type": "code",
        "outputId": "86b1f157-4dc0-4968-b5fe-b853764d6b63",
        "colab": {
          "base_uri": "https://localhost:8080/",
          "height": 175
        }
      },
      "source": [
        "X,y,vocab = createBasicFeatures(corpus)\n",
        "runEvaluation(X, y, vocab)"
      ],
      "execution_count": 0,
      "outputs": [
        {
          "output_type": "stream",
          "text": [
            "----------L1 Norm-----------\n",
            "The model's average accuracy is 0.826000\n",
            "The most informative terms for pos are: ['flaws', 'memorable', 'terrific', 'perfectly', 'edge', 'enjoyable', 'sherri', 'masterpiece', 'excellent', 'gas', 'overall', 'using', 'quite', 'fun', 'follows', 'pulp', 'solid', 'holds', 'seen', 'loved']\n",
            "The most informative terms for neg are: ['waste', 'mess', 'ridiculous', 'lame', 'worst', 'headed', 'awful', 'unfortunately', 'cheap', 'write', 'boring', 'superior', 'tedious', 'bad', 'jesse', 'terrible', 'poor', 'looks', 'maybe', 'reason']\n",
            "----------L2 Norm-----------\n",
            "The model's average accuracy is 0.832000\n",
            "The most informative terms for pos are: ['fun', 'back', 'great', 'quite', 'well', 'excellent', 'overall', 'seen', 'american', 'perfectly', 'memorable', 'terrific', 'yet', 'pulp', 'job', 'true', 'performances', 'very', 'different', 'solid']\n",
            "The most informative terms for neg are: ['bad', 'unfortunately', 'worst', 'waste', 'nothing', 'only', 'script', 'boring', 'awful', 'plot', 'reason', 'poor', 'looks', 'supposed', 'mess', 'lame', 'women', 'should', 'anyway', 'ridiculous']\n"
          ],
          "name": "stdout"
        }
      ]
    },
    {
      "cell_type": "markdown",
      "metadata": {
        "id": "4sjxLL2PTrJi",
        "colab_type": "text"
      },
      "source": [
        "Run the following to train and evaluate two models using extended features:"
      ]
    },
    {
      "cell_type": "code",
      "metadata": {
        "id": "1iHudrPb5NPY",
        "colab_type": "code",
        "outputId": "e62910bf-eb38-42f4-9ff4-2ec423215b68",
        "colab": {
          "base_uri": "https://localhost:8080/",
          "height": 175
        }
      },
      "source": [
        "X,y,vocab = createFancyFeatures(corpus)\n",
        "runEvaluation(X, y, vocab)"
      ],
      "execution_count": 112,
      "outputs": [
        {
          "output_type": "stream",
          "text": [
            "----------L1 Norm-----------\n",
            "The model's average accuracy is 0.833500\n",
            "The most informative terms for pos are: ['even if', 'flaws', 'memorable', 'due to', 'terrific', 'overall', 'others', 'master', 'gas', 'hilarious', 'masterpiece', 'perfectly', 'as much', 'by a', 'great', 'works', 'fun', 'follows', 'filmmaking', 'portrayed']\n",
            "The most informative terms for neg are: ['waste', 'awful', 'headed', 'unfortunately', 'mess', 'ridiculous', 'should have', 'boring', 'worst', 'poor', 'cheap', 'lame', 'write', 'bad', 'designed', 'supposed', 'about it', 'would have', 'metro', 'nowhere']\n",
            "----------L2 Norm-----------\n",
            "The model's average accuracy is 0.862000\n",
            "The most informative terms for pos are: ['well', 'great', 'fun', 'he is', 'also', 'back', 'very', 'seen', 'life', 'many', 'people', 'quite', 'american', 'most', 'yet', 'by a', 'while', 'others', 'job', 'true']\n",
            "The most informative terms for neg are: ['bad', 'unfortunately', 'plot', 'only', 'worst', 'nothing', 'any', 'waste', 'boring', 'poor', 'script', 'to be', 'looks', 'supposed', 'should have', 'awful', 'should', 'have been', 'director', 'supposed to']\n"
          ],
          "name": "stdout"
        }
      ]
    }
  ]
}
